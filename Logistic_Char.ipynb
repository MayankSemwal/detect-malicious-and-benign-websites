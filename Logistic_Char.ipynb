{
 "cells": [
  {
   "cell_type": "code",
   "execution_count": 1,
   "metadata": {
    "_cell_guid": "b1076dfc-b9ad-4769-8c92-a6c4dae69d19",
    "_uuid": "8f2839f25d086af736a60e9eeb907d3b93b6e0e5",
    "scrolled": true
   },
   "outputs": [
    {
     "name": "stdout",
     "output_type": "stream",
     "text": [
      "URL_LENGTH                     0\n",
      "NUMBER_SPECIAL_CHARACTERS      0\n",
      "CHARSET                        0\n",
      "SERVER                         1\n",
      "CONTENT_LENGTH               812\n",
      "WHOIS_COUNTRY                  0\n",
      "WHOIS_STATEPRO                 0\n",
      "WHOIS_REGDATE                  0\n",
      "WHOIS_UPDATED_DATE             0\n",
      "TCP_CONVERSATION_EXCHANGE      0\n",
      "DIST_REMOTE_TCP_PORT           0\n",
      "REMOTE_IPS                     0\n",
      "APP_BYTES                      0\n",
      "SOURCE_APP_PACKETS             0\n",
      "REMOTE_APP_PACKETS             0\n",
      "SOURCE_APP_BYTES               0\n",
      "REMOTE_APP_BYTES               0\n",
      "APP_PACKETS                    0\n",
      "DNS_QUERY_TIMES                1\n",
      "Type                           0\n",
      "dtype: int64\n",
      "URL_LENGTH                   0\n",
      "NUMBER_SPECIAL_CHARACTERS    0\n",
      "CHARSET                      0\n",
      "SERVER                       1\n",
      "CONTENT_LENGTH               0\n",
      "WHOIS_COUNTRY                0\n",
      "WHOIS_STATEPRO               0\n",
      "WHOIS_REGDATE                0\n",
      "WHOIS_UPDATED_DATE           0\n",
      "TCP_CONVERSATION_EXCHANGE    0\n",
      "DIST_REMOTE_TCP_PORT         0\n",
      "REMOTE_IPS                   0\n",
      "APP_BYTES                    0\n",
      "SOURCE_APP_PACKETS           0\n",
      "REMOTE_APP_PACKETS           0\n",
      "SOURCE_APP_BYTES             0\n",
      "REMOTE_APP_BYTES             0\n",
      "APP_PACKETS                  0\n",
      "DNS_QUERY_TIMES              0\n",
      "Type                         0\n",
      "dtype: int64\n",
      "Accuracy  0.9131652661064426\n",
      "Misclassified samples: 31\n",
      "[0 0 0 0 0 0 0 0 0 0 0 0 0 0 0 0 0 0 1 0 0 0 0 0 0 0 0 0 1 0 0 0 0 0 0 0 0\n",
      " 0 0 0 1 0 0 0 0 0 0 0 0 0 0 0 0 0 0 1 0 0 0 0 0 0 0 0 0 0 0 0 0 0 0 0 0 0\n",
      " 0 0 0 0 0 1 0 0 0 0 0 0 0 0 0 0 0 0 0 0 0 0 1 0 0 1 0 0 1 0 0 0 0 0 0 1 0\n",
      " 0 0 0 0 0 0 0 0 0 0 0 0 0 0 0 0 0 0 0 0 0 0 0 0 0 0 0 0 0 0 0 0 0 0 0 0 0\n",
      " 0 0 0 0 0 0 0 0 0 1 0 0 0 0 0 0 0 0 0 0 0 0 0 0 0 0 0 0 0 0 0 0 0 0 0 0 0\n",
      " 0 0 0 0 0 0 0 0 0 0 0 0 1 0 1 0 0 0 0 0 0 0 0 0 0 1 0 0 0 0 0 0 0 0 0 0 0\n",
      " 0 1 0 0 1 0 0 0 0 0 0 0 0 1 0 1 1 0 0 0 0 0 0 0 1 0 0 0 0 0 0 0 0 0 0 0 0\n",
      " 0 1 0 0 0 0 0 0 0 0 0 0 0 0 0 0 0 0 0 0 0 0 0 0 0 0 0 0 0 0 0 0 0 0 0 0 0\n",
      " 0 0 0 0 0 0 0 0 0 0 0 0 0 0 0 0 0 0 0 1 0 0 1 0 0 0 0 1 0 0 0 0 0 0 0 0 0\n",
      " 0 0 0 0 0 0 0 0 0 0 0 0 0 0 0 0 0 0 0 0 0 0 1 0]\n"
     ]
    }
   ],
   "source": [
    "import pandas as pd\n",
    "import numpy as np\n",
    "import matplotlib.pyplot as plt\n",
    "import random\n",
    "import sklearn\n",
    "import warnings\n",
    "import plotly.plotly as py\n",
    "import plotly.graph_objs as go\n",
    "warnings.filterwarnings(\"ignore\", category=FutureWarning)\n",
    "# Machine Learning Packages\n",
    "from sklearn.linear_model import LogisticRegression\n",
    "from sklearn.model_selection import train_test_split\n",
    "from sklearn.model_selection import cross_val_predict, cross_val_score\n",
    "from sklearn.metrics import confusion_matrix,classification_report,accuracy_score\n",
    "\n",
    "# Print out a quick overview of the data\n",
    "dataset=pd.read_csv(\"dataset.csv\")\n",
    "dataset.head()\n",
    "dataset.describe(include='all') # Quick statistical summary of data\n",
    "dataset.drop('URL', axis=1, inplace=True) # Drop the URL column since that is a unique column for training\n",
    "\n",
    "# Take a look at any null values to clean up data, Likely need to do something with these empty datasets\n",
    "print(dataset.isnull().sum())\n",
    "dataset[pd.isnull(dataset).any(axis=1)]\n",
    "dataset = dataset.interpolate() # Interpolate our data to get rid of null values\n",
    "print(dataset.isnull().sum())\n",
    "dataset['SERVER'].fillna('RARE_VALUE', inplace=True)  # For some reason there's still a isnull in the SERVER column\n",
    "dataset_numerical = pd.get_dummies(dataset,prefix_sep='--') # Convert categorical columns to numbered categorical columns\n",
    "\n",
    "# Separate predictors and response\n",
    "X = dataset_numerical.drop('Type',axis=1) #Predictors\n",
    "y = dataset_numerical['Type']\n",
    "\n",
    "# Our split will be a 80/20 split\n",
    "X_train, X_test, y_train, y_test = train_test_split(X, y, test_size=0.2) # Get a training and test dataset\n",
    "\n",
    "#Model Building, using logistic regression\n",
    "logit = LogisticRegression()\n",
    "logit.fit(X_train, y_train)\n",
    "\n",
    "# Accuracy of Our Model\n",
    "print(\"Accuracy \",logit.score(X_test, y_test))\n",
    "New_predict = logit.predict(X_test)\n",
    "print('Misclassified samples: %d' % (y_test != New_predict).sum())\n",
    "print(New_predict)\n",
    "#print(y_test)"
   ]
  },
  {
   "cell_type": "code",
   "execution_count": 2,
   "metadata": {
    "_uuid": "e631eeb00b524df2a5b80e20997a80c842b5258f",
    "scrolled": true
   },
   "outputs": [
    {
     "name": "stdout",
     "output_type": "stream",
     "text": [
      "Test results:\n",
      "\n",
      "Accuracy Score: 0.9132\n",
      "\n",
      "Classification Report:\n",
      "              precision    recall  f1-score   support\n",
      "\n",
      "           0       0.92      0.99      0.95       310\n",
      "           1       0.83      0.43      0.56        47\n",
      "\n",
      "   micro avg       0.91      0.91      0.91       357\n",
      "   macro avg       0.88      0.71      0.76       357\n",
      "weighted avg       0.91      0.91      0.90       357\n",
      "\n",
      "\n",
      "Confusion Matrix:\n",
      "[[306   4]\n",
      " [ 27  20]]\n",
      "\n"
     ]
    }
   ],
   "source": [
    "# Visualize our results\n",
    "def print_score(classifier,X_train,y_train,X_test,y_test,train=True):\n",
    "    if train == True:\n",
    "        print(\"Training results:\\n\")\n",
    "        print('Accuracy Score: {0:.4f}\\n'.format(accuracy_score(y_train,classifier.predict(X_train))))\n",
    "        print('Classification Report:\\n{}\\n'.format(classification_report(y_train,classifier.predict(X_train))))\n",
    "        print('Confusion Matrix:\\n{}\\n'.format(confusion_matrix(y_train,classifier.predict(X_train))))\n",
    "        res = cross_val_score(classifier, X_train, y_train, cv=10, n_jobs=-1, scoring='accuracy')\n",
    "        print('Average Accuracy:\\t{0:.4f}\\n'.format(res.mean()))\n",
    "        print('Standard Deviation:\\t{0:.4f}'.format(res.std()))\n",
    "    elif train == False:\n",
    "        print(\"Test results:\\n\")\n",
    "        print('Accuracy Score: {0:.4f}\\n'.format(accuracy_score(y_test,classifier.predict(X_test))))\n",
    "        print('Classification Report:\\n{}\\n'.format(classification_report(y_test,classifier.predict(X_test))))\n",
    "        print('Confusion Matrix:\\n{}\\n'.format(confusion_matrix(y_test,classifier.predict(X_test))))\n",
    "\n",
    "print_score(logit,X_train,y_train,X_test,y_test,train=False)"
   ]
  },
  {
   "cell_type": "code",
   "execution_count": 3,
   "metadata": {},
   "outputs": [
    {
     "data": {
      "image/png": "[encoded data removed]",
      "text/plain": [
       "<Figure size 360x360 with 1 Axes>"
      ]
     },
     "metadata": {
      "needs_background": "light"
     },
     "output_type": "display_data"
    }
   ],
   "source": [
    "import seaborn as sns\n",
    "sns.catplot(x='Type',y='REMOTE_APP_PACKETS', kind='swarm',hue='Type', data=dataset_numerical);\n",
    "# fig = plt.gcf()\n",
    "# fig.set_size_inches(10, 5)\n",
    "plt.show()"
   ]
  },
  {
   "cell_type": "code",
   "execution_count": 4,
   "metadata": {},
   "outputs": [
    {
     "data": {
      "image/png": "[encoded data removed]",
      "text/plain": [
       "<Figure size 720x360 with 1 Axes>"
      ]
     },
     "metadata": {
      "needs_background": "light"
     },
     "output_type": "display_data"
    }
   ],
   "source": [
    "import seaborn as sns\n",
    "sns.lmplot( 'Type','URL_LENGTH',dataset_numerical, hue='Type', fit_reg=False)\n",
    "fig = plt.gcf()\n",
    "fig.set_size_inches(10, 5)\n",
    "plt.show()"
   ]
  },
  {
   "cell_type": "code",
   "execution_count": 5,
   "metadata": {},
   "outputs": [
    {
     "data": {
      "text/plain": [
       "0    1565\n",
       "1     216\n",
       "Name: Type, dtype: int64"
      ]
     },
     "execution_count": 5,
     "metadata": {},
     "output_type": "execute_result"
    }
   ],
   "source": [
    "dataset_numerical['Type'].value_counts()"
   ]
  },
  {
   "cell_type": "code",
   "execution_count": 6,
   "metadata": {},
   "outputs": [
    {
     "data": {
      "image/png": "[encoded data removed]",
      "text/plain": [
       "<Figure size 432x288 with 1 Axes>"
      ]
     },
     "metadata": {
      "needs_background": "light"
     },
     "output_type": "display_data"
    }
   ],
   "source": [
    "# 0 Benign 1 Malacious\n",
    "sns.countplot(x='Type',data=dataset_numerical,palette='hls')\n",
    "plt.show()"
   ]
  },
  {
   "cell_type": "code",
   "execution_count": 7,
   "metadata": {},
   "outputs": [
    {
     "data": {
      "text/plain": [
       "[<matplotlib.lines.Line2D at 0x1a256b7f98>]"
      ]
     },
     "execution_count": 7,
     "metadata": {},
     "output_type": "execute_result"
    },
    {
     "data": {
      "image/png": "[encoded data removed]",
      "text/plain": [
       "<Figure size 432x288 with 1 Axes>"
      ]
     },
     "metadata": {
      "needs_background": "light"
     },
     "output_type": "display_data"
    }
   ],
   "source": [
    "plt.plot(New_predict, y_test, color='green', marker='o', linestyle='dashed',linewidth=2, markersize=12)"
   ]
  },
  {
   "cell_type": "code",
   "execution_count": null,
   "metadata": {},
   "outputs": [],
   "source": []
  }
 ],
 "metadata": {
  "kernelspec": {
   "display_name": "Python 3",
   "language": "python",
   "name": "python3"
  },
  "language_info": {
   "codemirror_mode": {
    "name": "ipython",
    "version": 3
   },
   "file_extension": ".py",
   "mimetype": "text/x-python",
   "name": "python",
   "nbconvert_exporter": "python",
   "pygments_lexer": "ipython3",
   "version": "3.7.1"
  }
 },
 "nbformat": 4,
 "nbformat_minor": 2
}
